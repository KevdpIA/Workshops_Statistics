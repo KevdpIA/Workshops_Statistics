{
  "nbformat": 4,
  "nbformat_minor": 0,
  "metadata": {
    "colab": {
      "name": "Wshop4.ipynb",
      "provenance": [],
      "collapsed_sections": []
    },
    "kernelspec": {
      "name": "python3",
      "display_name": "Python 3"
    },
    "language_info": {
      "name": "python"
    }
  },
  "cells": [
    {
      "cell_type": "markdown",
      "source": [
        "## Workshop 4\n",
        "\n",
        "## Kevin Joan Delgado Pérez A01706328\n",
        "\n",
        "## 23/08/2022"
      ],
      "metadata": {
        "id": "VXUMVRg8f2bk"
      }
    },
    {
      "cell_type": "code",
      "source": [
        "!pip install --upgrade pandas\n",
        "!pip install --upgrade pandas-datareader"
      ],
      "metadata": {
        "colab": {
          "base_uri": "https://localhost:8080/"
        },
        "id": "0v6NPtw-dEMq",
        "outputId": "06d306c6-648a-4650-a928-abd25d4f7f67"
      },
      "execution_count": null,
      "outputs": [
        {
          "output_type": "stream",
          "name": "stdout",
          "text": [
            "Looking in indexes: https://pypi.org/simple, https://us-python.pkg.dev/colab-wheels/public/simple/\n",
            "Requirement already satisfied: pandas in /usr/local/lib/python3.7/dist-packages (1.3.5)\n",
            "Requirement already satisfied: pytz>=2017.3 in /usr/local/lib/python3.7/dist-packages (from pandas) (2022.2.1)\n",
            "Requirement already satisfied: numpy>=1.17.3 in /usr/local/lib/python3.7/dist-packages (from pandas) (1.21.6)\n",
            "Requirement already satisfied: python-dateutil>=2.7.3 in /usr/local/lib/python3.7/dist-packages (from pandas) (2.8.2)\n",
            "Requirement already satisfied: six>=1.5 in /usr/local/lib/python3.7/dist-packages (from python-dateutil>=2.7.3->pandas) (1.15.0)\n",
            "Looking in indexes: https://pypi.org/simple, https://us-python.pkg.dev/colab-wheels/public/simple/\n",
            "Requirement already satisfied: pandas-datareader in /usr/local/lib/python3.7/dist-packages (0.10.0)\n",
            "Requirement already satisfied: requests>=2.19.0 in /usr/local/lib/python3.7/dist-packages (from pandas-datareader) (2.28.1)\n",
            "Requirement already satisfied: lxml in /usr/local/lib/python3.7/dist-packages (from pandas-datareader) (4.9.1)\n",
            "Requirement already satisfied: pandas>=0.23 in /usr/local/lib/python3.7/dist-packages (from pandas-datareader) (1.3.5)\n",
            "Requirement already satisfied: pytz>=2017.3 in /usr/local/lib/python3.7/dist-packages (from pandas>=0.23->pandas-datareader) (2022.2.1)\n",
            "Requirement already satisfied: python-dateutil>=2.7.3 in /usr/local/lib/python3.7/dist-packages (from pandas>=0.23->pandas-datareader) (2.8.2)\n",
            "Requirement already satisfied: numpy>=1.17.3 in /usr/local/lib/python3.7/dist-packages (from pandas>=0.23->pandas-datareader) (1.21.6)\n",
            "Requirement already satisfied: six>=1.5 in /usr/local/lib/python3.7/dist-packages (from python-dateutil>=2.7.3->pandas>=0.23->pandas-datareader) (1.15.0)\n",
            "Requirement already satisfied: charset-normalizer<3,>=2 in /usr/local/lib/python3.7/dist-packages (from requests>=2.19.0->pandas-datareader) (2.1.0)\n",
            "Requirement already satisfied: certifi>=2017.4.17 in /usr/local/lib/python3.7/dist-packages (from requests>=2.19.0->pandas-datareader) (2022.6.15)\n",
            "Requirement already satisfied: idna<4,>=2.5 in /usr/local/lib/python3.7/dist-packages (from requests>=2.19.0->pandas-datareader) (2.10)\n",
            "Requirement already satisfied: urllib3<1.27,>=1.21.1 in /usr/local/lib/python3.7/dist-packages (from requests>=2.19.0->pandas-datareader) (1.24.3)\n"
          ]
        }
      ]
    },
    {
      "cell_type": "code",
      "execution_count": null,
      "metadata": {
        "id": "hp147MdqbCXm"
      },
      "outputs": [],
      "source": [
        "import pandas_datareader as pdr\n",
        "import pandas as pd\n",
        "import numpy as np\n",
        "import matplotlib\n",
        "import matplotlib.pyplot as plt"
      ]
    },
    {
      "cell_type": "markdown",
      "source": [
        "Calculate cc returns of both stocks and drop NA values"
      ],
      "metadata": {
        "id": "-nvNyOgjdhT_"
      }
    },
    {
      "cell_type": "code",
      "source": [
        "precios = pdr.get_data_yahoo(['ALFAA.MX','^MXX'],start=\"01/01/2018\", end=\"07/31/2022\",interval=\"m\")\n",
        "precios = precios['Adj Close']"
      ],
      "metadata": {
        "id": "cYWPQueVbJjb"
      },
      "execution_count": null,
      "outputs": []
    },
    {
      "cell_type": "code",
      "source": [
        "rprec = np.log(precios) - np.log(precios.shift(1))\n",
        "rprec=rprec.dropna()\n",
        "rprec.columns=['ALFAA','MXX']"
      ],
      "metadata": {
        "id": "uNVu-VUzdlyf"
      },
      "execution_count": null,
      "outputs": []
    },
    {
      "cell_type": "markdown",
      "source": [
        "Do a scatter plot including the regression line and interpret the plot"
      ],
      "metadata": {
        "id": "wmAsP6y1dbIy"
      }
    },
    {
      "cell_type": "code",
      "source": [
        "x = rprec['MXX']\n",
        "y = rprec['ALFAA']\n",
        "\n",
        "plt.scatter(x, y)\n",
        "v1,v0 = np.polyfit(x,y,1)\n",
        "yline = (v0+v1)*x\n",
        "plt.plot(x, yline, c = \"black\")\n",
        "\n",
        "plt.xlabel(\"Market returns\")\n",
        "plt.ylabel(\"Alfa returns\")\n",
        "plt.show()"
      ],
      "metadata": {
        "colab": {
          "base_uri": "https://localhost:8080/",
          "height": 279
        },
        "id": "2eWjBhIRbxqL",
        "outputId": "f9db7e73-5fdc-40c2-aca2-7c448368b113"
      },
      "execution_count": null,
      "outputs": [
        {
          "output_type": "display_data",
          "data": {
            "text/plain": [
              "<Figure size 432x288 with 1 Axes>"
            ],
            "image/png": "[encoded data removed]"
          },
          "metadata": {
            "needs_background": "light"
          }
        }
      ]
    },
    {
      "cell_type": "markdown",
      "source": [
        "Interpretation:\n",
        "\n",
        "EN LA GRÁFICA SE OBSERVA LA POSIBILIDAD DE QUE, EL VALOR DE LOS RETORNOS DE ALFA TIENEN EL MISMO COMPORTAMIENTO QUE LOS RETORNOS DE MARKET CUANDO AUMENTAN, POR LO QUE LA LINEA DE REGRESIÓN TIENDE A SER POSITIVA."
      ],
      "metadata": {
        "id": "2VWIDEYAhJbw"
      }
    },
    {
      "cell_type": "code",
      "source": [
        "import statsmodels.api as stats"
      ],
      "metadata": {
        "id": "qazcU5-gkAWl"
      },
      "execution_count": null,
      "outputs": []
    },
    {
      "cell_type": "code",
      "source": [
        "X = stats.add_constant(x)\n",
        "mkmodel = stats.OLS(y,X).fit()\n",
        "print(mkmodel.summary())"
      ],
      "metadata": {
        "colab": {
          "base_uri": "https://localhost:8080/"
        },
        "id": "vmIMVAyIglS3",
        "outputId": "02a7859f-93b4-4d16-b519-9066b83591f3"
      },
      "execution_count": null,
      "outputs": [
        {
          "output_type": "stream",
          "name": "stdout",
          "text": [
            "                            OLS Regression Results                            \n",
            "==============================================================================\n",
            "Dep. Variable:                  ALFAA   R-squared:                       0.351\n",
            "Model:                            OLS   Adj. R-squared:                  0.339\n",
            "Method:                 Least Squares   F-statistic:                     28.13\n",
            "Date:                Sun, 21 Aug 2022   Prob (F-statistic):           2.36e-06\n",
            "Time:                        04:01:34   Log-Likelihood:                 42.633\n",
            "No. Observations:                  54   AIC:                            -81.27\n",
            "Df Residuals:                      52   BIC:                            -77.29\n",
            "Df Model:                           1                                         \n",
            "Covariance Type:            nonrobust                                         \n",
            "==============================================================================\n",
            "                 coef    std err          t      P>|t|      [0.025      0.975]\n",
            "------------------------------------------------------------------------------\n",
            "const         -0.0080      0.015     -0.522      0.604      -0.039       0.023\n",
            "MXX            1.5387      0.290      5.304      0.000       0.957       2.121\n",
            "==============================================================================\n",
            "Omnibus:                        9.069   Durbin-Watson:                   2.203\n",
            "Prob(Omnibus):                  0.011   Jarque-Bera (JB):               20.490\n",
            "Skew:                          -0.134   Prob(JB):                     3.55e-05\n",
            "Kurtosis:                       6.006   Cond. No.                         19.0\n",
            "==============================================================================\n",
            "\n",
            "Notes:\n",
            "[1] Standard Errors assume that the covariance matrix of the errors is correctly specified.\n"
          ]
        },
        {
          "output_type": "stream",
          "name": "stderr",
          "text": [
            "/usr/local/lib/python3.7/dist-packages/statsmodels/tsa/tsatools.py:142: FutureWarning: In a future version of pandas all arguments of concat except for the argument 'objs' will be keyword-only\n",
            "  x = pd.concat(x[::order], 1)\n"
          ]
        }
      ]
    },
    {
      "cell_type": "markdown",
      "source": [
        "Write down the regression equation\n",
        "\n",
        "Respuesta.\n",
        "\n",
        "LA ECUACIÓN ES: -0.007785460330175878 + 1.5394835507302118*MXX"
      ],
      "metadata": {
        "id": "fyF4pqpdkwh4"
      }
    },
    {
      "cell_type": "markdown",
      "source": [
        "Interpret the beta coefficients and their corresponding t and p values, and their 95% confidence intervals\n",
        "\n",
        "Respuesta.\n",
        "\n",
        "TENIENDO EN CUENTA QUE EL COEFICIENTE DE B1 ES EN BUENA PARTE MUCHO MAYOR A 0 Y EL P-VALUE ES MAYOR A 0.005, EXISTE UNA BUENA RELACION (POSITIVA) ENTRE AMBAS VARIABLES EN UN 95% DE LAS VECES. DADO QUE T VALUE DE B1 ES MUCHO MAYOR A 2, SE ESTIMA EN UN NIVEL DE CONFIANZA DEL 95% QUE LA HIPOTESIS NULA DEL COEFICIENTE PUEDE SER RECHAZADA.\n",
        "\n",
        "TENIENDO EN CUENTA QUE B1 ES 1.53, QUIERE DECIR QUE SI LOS RETORNOS EN EL MERCADO DISMINUYEN EN UN 100%, LOS RETORNOS DE EN ESTE CASO ALFA, TAMBIÉN DISMINUIRÁN EN UN 153% Y, TAMBIÉN VICEVERSA, LO CUAL GENERA UN GRAN RIESGO EN EL MERCADO.\n",
        " "
      ],
      "metadata": {
        "id": "awoJJNk5lXB_"
      }
    }
  ]
}