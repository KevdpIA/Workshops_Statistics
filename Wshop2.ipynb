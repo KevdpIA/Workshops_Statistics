{
  "nbformat": 4,
  "nbformat_minor": 0,
  "metadata": {
    "colab": {
      "name": "Wshop2.ipynb",
      "provenance": [],
      "collapsed_sections": []
    },
    "kernelspec": {
      "name": "python3",
      "display_name": "Python 3"
    },
    "language_info": {
      "name": "python"
    }
  },
  "cells": [
    {
      "cell_type": "markdown",
      "source": [
        "## Workshop 2\n",
        "\n",
        "## Kevin Joan Delgado Pérez A01706328\n",
        "\n",
        "## 16/08/2022"
      ],
      "metadata": {
        "id": "rNb9v4lhflyC"
      }
    },
    {
      "cell_type": "code",
      "execution_count": null,
      "metadata": {
        "colab": {
          "base_uri": "https://localhost:8080/"
        },
        "id": "KlEyQRgigZ4m",
        "outputId": "101bf215-429d-4916-d464-6c7d8c8038a2"
      },
      "outputs": [
        {
          "output_type": "stream",
          "name": "stdout",
          "text": [
            "Looking in indexes: https://pypi.org/simple, https://us-python.pkg.dev/colab-wheels/public/simple/\n",
            "Requirement already satisfied: symbulate in /usr/local/lib/python3.7/dist-packages (0.5.7)\n",
            "Requirement already satisfied: numpy in /usr/local/lib/python3.7/dist-packages (from symbulate) (1.21.6)\n",
            "Requirement already satisfied: matplotlib in /usr/local/lib/python3.7/dist-packages (from symbulate) (3.2.2)\n",
            "Requirement already satisfied: scipy in /usr/local/lib/python3.7/dist-packages (from symbulate) (1.7.3)\n",
            "Requirement already satisfied: cycler>=0.10 in /usr/local/lib/python3.7/dist-packages (from matplotlib->symbulate) (0.11.0)\n",
            "Requirement already satisfied: kiwisolver>=1.0.1 in /usr/local/lib/python3.7/dist-packages (from matplotlib->symbulate) (1.4.4)\n",
            "Requirement already satisfied: python-dateutil>=2.1 in /usr/local/lib/python3.7/dist-packages (from matplotlib->symbulate) (2.8.2)\n",
            "Requirement already satisfied: pyparsing!=2.0.4,!=2.1.2,!=2.1.6,>=2.0.1 in /usr/local/lib/python3.7/dist-packages (from matplotlib->symbulate) (3.0.9)\n",
            "Requirement already satisfied: typing-extensions in /usr/local/lib/python3.7/dist-packages (from kiwisolver>=1.0.1->matplotlib->symbulate) (4.1.1)\n",
            "Requirement already satisfied: six>=1.5 in /usr/local/lib/python3.7/dist-packages (from python-dateutil>=2.1->matplotlib->symbulate) (1.15.0)\n",
            "Looking in indexes: https://pypi.org/simple, https://us-python.pkg.dev/colab-wheels/public/simple/\n",
            "Requirement already satisfied: pandas in /usr/local/lib/python3.7/dist-packages (1.3.5)\n",
            "Requirement already satisfied: numpy>=1.17.3 in /usr/local/lib/python3.7/dist-packages (from pandas) (1.21.6)\n",
            "Requirement already satisfied: python-dateutil>=2.7.3 in /usr/local/lib/python3.7/dist-packages (from pandas) (2.8.2)\n",
            "Requirement already satisfied: pytz>=2017.3 in /usr/local/lib/python3.7/dist-packages (from pandas) (2022.1)\n",
            "Requirement already satisfied: six>=1.5 in /usr/local/lib/python3.7/dist-packages (from python-dateutil>=2.7.3->pandas) (1.15.0)\n",
            "Looking in indexes: https://pypi.org/simple, https://us-python.pkg.dev/colab-wheels/public/simple/\n",
            "Requirement already satisfied: pandas-datareader in /usr/local/lib/python3.7/dist-packages (0.10.0)\n",
            "Requirement already satisfied: pandas>=0.23 in /usr/local/lib/python3.7/dist-packages (from pandas-datareader) (1.3.5)\n",
            "Requirement already satisfied: requests>=2.19.0 in /usr/local/lib/python3.7/dist-packages (from pandas-datareader) (2.23.0)\n",
            "Requirement already satisfied: lxml in /usr/local/lib/python3.7/dist-packages (from pandas-datareader) (4.9.1)\n",
            "Requirement already satisfied: python-dateutil>=2.7.3 in /usr/local/lib/python3.7/dist-packages (from pandas>=0.23->pandas-datareader) (2.8.2)\n",
            "Requirement already satisfied: numpy>=1.17.3 in /usr/local/lib/python3.7/dist-packages (from pandas>=0.23->pandas-datareader) (1.21.6)\n",
            "Requirement already satisfied: pytz>=2017.3 in /usr/local/lib/python3.7/dist-packages (from pandas>=0.23->pandas-datareader) (2022.1)\n",
            "Requirement already satisfied: six>=1.5 in /usr/local/lib/python3.7/dist-packages (from python-dateutil>=2.7.3->pandas>=0.23->pandas-datareader) (1.15.0)\n",
            "Requirement already satisfied: certifi>=2017.4.17 in /usr/local/lib/python3.7/dist-packages (from requests>=2.19.0->pandas-datareader) (2022.6.15)\n",
            "Requirement already satisfied: idna<3,>=2.5 in /usr/local/lib/python3.7/dist-packages (from requests>=2.19.0->pandas-datareader) (2.10)\n",
            "Requirement already satisfied: chardet<4,>=3.0.2 in /usr/local/lib/python3.7/dist-packages (from requests>=2.19.0->pandas-datareader) (3.0.4)\n",
            "Requirement already satisfied: urllib3!=1.25.0,!=1.25.1,<1.26,>=1.21.1 in /usr/local/lib/python3.7/dist-packages (from requests>=2.19.0->pandas-datareader) (1.24.3)\n"
          ]
        }
      ],
      "source": [
        "!pip install symbulate\n",
        "!pip install --upgrade pandas\n",
        "!pip install --upgrade pandas-datareader"
      ]
    },
    {
      "cell_type": "code",
      "source": [
        "from symbulate import *\n",
        "#'exec(%matplotlib inline)' \n",
        "import matplotlib\n",
        "\n",
        "import matplotlib.pyplot as plt"
      ],
      "metadata": {
        "id": "wuR7lIt-hOhc"
      },
      "execution_count": null,
      "outputs": []
    },
    {
      "cell_type": "code",
      "source": [
        "# clear the plot space:\n",
        "plt.clf()\n",
        "# Define the probability type of function as uniform (probability space)\n",
        "P = Uniform(0,40)\n",
        "# Define X as a random variable of the type P (uniform)\n",
        "X =RV(P)\n",
        "# Simulate the values of X and save the in the x array: \n",
        "x=X.sim(10000)\n",
        "x.plot()\n",
        "plt.show()"
      ],
      "metadata": {
        "colab": {
          "base_uri": "https://localhost:8080/",
          "height": 265
        },
        "id": "p9qwxW3zhQYg",
        "outputId": "0daa1b6a-80c5-4287-87b5-12b212dbbe5c"
      },
      "execution_count": null,
      "outputs": [
        {
          "output_type": "display_data",
          "data": {
            "text/plain": [
              "<Figure size 432x288 with 1 Axes>"
            ],
            "image/png": "[encoded data removed]"
          },
          "metadata": {
            "needs_background": "light"
          }
        }
      ]
    },
    {
      "cell_type": "markdown",
      "source": [
        "CALCULATE THE MEAN AND STANDARD DEVIATION OF THIS SIMULATED UNIFORM x VARIABLE."
      ],
      "metadata": {
        "id": "rp997Yd4rS01"
      }
    },
    {
      "cell_type": "code",
      "source": [
        "prom = x.mean()\n",
        "stdDev = x.std()\n",
        "\n",
        "print(prom)\n",
        "print(stdDev)"
      ],
      "metadata": {
        "colab": {
          "base_uri": "https://localhost:8080/"
        },
        "id": "qe-JeKb_hZrF",
        "outputId": "0f9d2b4c-bf8f-405d-fc83-d487ebc6b8d6"
      },
      "execution_count": null,
      "outputs": [
        {
          "output_type": "stream",
          "name": "stdout",
          "text": [
            "19.945485631741676\n",
            "11.655976140709154\n"
          ]
        }
      ]
    },
    {
      "cell_type": "markdown",
      "source": [
        "INTERPET THE ABOVE HISTOGRAM. WHAT DO YOU SEE? EXPLAIN WITH YOUR WORDS.\n",
        "\n",
        "Respuesta:\n",
        "\n",
        "EN EL HISTOGRAMA VEMOS LA VARIABILIDAD DE LOS DATOS, SIGUEN UN RANGO DE DENSIDAD PARECIDO, PUES NO HAY VARIABILIBIDAD MUY ALTA EN EL EJE Y."
      ],
      "metadata": {
        "id": "zVGBn5JOrLoL"
      }
    },
    {
      "cell_type": "code",
      "source": [
        "# Define the probability space as a vector of 25 uniform random numbers:\n",
        "P = Uniform(0,40) ** 25\n",
        "# Define XVECTOR as a vector of random variables with 25 random values \n",
        "XVECTOR =RV(P)\n",
        "# Simulate 10,000 vectors to get a matrix  \n",
        "xmatrix=XVECTOR.sim(10000)"
      ],
      "metadata": {
        "id": "fbiex3zBjOw-"
      },
      "execution_count": null,
      "outputs": []
    },
    {
      "cell_type": "code",
      "source": [
        "xmatrix"
      ],
      "metadata": {
        "colab": {
          "base_uri": "https://localhost:8080/",
          "height": 272
        },
        "id": "uWxJj_LRjR1-",
        "outputId": "c52e89fc-3622-41ad-9cb8-938468b6a93d"
      },
      "execution_count": null,
      "outputs": [
        {
          "output_type": "execute_result",
          "data": {
            "text/plain": [
              "Index Result\n",
              "0     (6.308447351415589, 14.977374758827434, 8.07465563274468, 12.316179783975016, 5.372173183460598, ..., 1.133023750173452)\n",
              "1     (0.2887562525685139, 20.969371747089372, 7.670036683015056, 12.542267282506888, 10.493875584010631, ..., 37.50996843037048)\n",
              "2     (5.478655317306469, 32.465879549570055, 22.97673276847867, 39.05162913265848, 23.934779993167492, ..., 4.661464126655521)\n",
              "3     (24.24646727795738, 38.23800186502296, 23.14793669855605, 23.545127381717585, 0.934388648547908, ..., 5.355674917806983)\n",
              "4     (11.05430278858, 22.807095184320076, 9.940407303071247, 14.368034144583707, 22.041571271195693, ..., 16.58025110672677)\n",
              "5     (16.632650218440062, 8.595687394377101, 12.034547238593554, 39.58426841324532, 2.3950144448913058, ..., 3.6902342757495177)\n",
              "6     (39.624449313440174, 14.720681087857761, 10.590408155185704, 27.710870233624934, 29.783878267302946, ..., 31.26519619668596)\n",
              "7     (39.086080840841575, 9.558634906421112, 14.131697466561093, 35.91382237685795, 18.469177444281144, ..., 19.472427935046085)\n",
              "8     (24.83256561726305, 36.62691849423662, 18.615753611054497, 10.442773477275868, 4.693545961983743, ..., 3.314599779711682)\n",
              "....  .........................................................................................................................\n",
              "9999  (28.764335715869215, 37.58318594582348, 9.69007353712541, 18.193427694763116, 17.262253352382583, ..., 6.663687956002042)"
            ],
            "text/html": [
              "\n",
              "    <table>\n",
              "      <thead>\n",
              "        <th width=\"10%\">Index</th>\n",
              "        <th width=\"90%\">Result</th>\n",
              "      </thead>\n",
              "      <tbody>\n",
              "        \n",
              "        <tr>\n",
              "          <td>0</td><td>(6.308447351415589, 14.977374758827434, 8.07465563274468, 12.316179783975016, 5.372173183460598, ......</td>\n",
              "        </tr>\n",
              "        \n",
              "        <tr>\n",
              "          <td>1</td><td>(0.2887562525685139, 20.969371747089372, 7.670036683015056, 12.542267282506888, 10.493875584010631, ...</td>\n",
              "        </tr>\n",
              "        \n",
              "        <tr>\n",
              "          <td>2</td><td>(5.478655317306469, 32.465879549570055, 22.97673276847867, 39.05162913265848, 23.934779993167492, .....</td>\n",
              "        </tr>\n",
              "        \n",
              "        <tr>\n",
              "          <td>3</td><td>(24.24646727795738, 38.23800186502296, 23.14793669855605, 23.545127381717585, 0.934388648547908, ......</td>\n",
              "        </tr>\n",
              "        \n",
              "        <tr>\n",
              "          <td>4</td><td>(11.05430278858, 22.807095184320076, 9.940407303071247, 14.368034144583707, 22.041571271195693, ...,...</td>\n",
              "        </tr>\n",
              "        \n",
              "        <tr>\n",
              "          <td>5</td><td>(16.632650218440062, 8.595687394377101, 12.034547238593554, 39.58426841324532, 2.3950144448913058, ....</td>\n",
              "        </tr>\n",
              "        \n",
              "        <tr>\n",
              "          <td>6</td><td>(39.624449313440174, 14.720681087857761, 10.590408155185704, 27.710870233624934, 29.783878267302946,...</td>\n",
              "        </tr>\n",
              "        \n",
              "        <tr>\n",
              "          <td>7</td><td>(39.086080840841575, 9.558634906421112, 14.131697466561093, 35.91382237685795, 18.469177444281144, ....</td>\n",
              "        </tr>\n",
              "        \n",
              "        <tr>\n",
              "          <td>8</td><td>(24.83256561726305, 36.62691849423662, 18.615753611054497, 10.442773477275868, 4.693545961983743, .....</td>\n",
              "        </tr>\n",
              "        <tr><td>...</td><td>...</td></tr>\n",
              "        <tr>\n",
              "          <td>9999</td><td>(28.764335715869215, 37.58318594582348, 9.69007353712541, 18.193427694763116, 17.262253352382583, .....</td>\n",
              "        </tr>\n",
              "        \n",
              "      </tbody>\n",
              "    </table>\n",
              "        "
            ]
          },
          "metadata": {},
          "execution_count": 39
        }
      ]
    },
    {
      "cell_type": "code",
      "source": [
        "# The 2nd parameter is the mathematical operation applied to each row of the random vector\n",
        "# Simulate 10,000 means of each random vector of 25 uniform distributed numbers: \n",
        "xmean = RV(P,mean).sim(10000)\n",
        "xmean"
      ],
      "metadata": {
        "colab": {
          "base_uri": "https://localhost:8080/",
          "height": 272
        },
        "id": "TxIl2VZSjilC",
        "outputId": "c9cc1c69-8f8d-4cfe-9232-4a8ae52a1b6f"
      },
      "execution_count": null,
      "outputs": [
        {
          "output_type": "execute_result",
          "data": {
            "text/plain": [
              "Index Result\n",
              "0     17.8689303429619\n",
              "1     15.925649924715024\n",
              "2     19.158477340164318\n",
              "3     17.205596845717587\n",
              "4     16.531591085194883\n",
              "5     17.296253998903513\n",
              "6     22.164327796588783\n",
              "7     19.563866978464322\n",
              "8     22.21903478883707\n",
              "....  .................\n",
              "9999  23.67795657206259"
            ],
            "text/html": [
              "\n",
              "    <table>\n",
              "      <thead>\n",
              "        <th width=\"10%\">Index</th>\n",
              "        <th width=\"90%\">Result</th>\n",
              "      </thead>\n",
              "      <tbody>\n",
              "        \n",
              "        <tr>\n",
              "          <td>0</td><td>17.8689303429619</td>\n",
              "        </tr>\n",
              "        \n",
              "        <tr>\n",
              "          <td>1</td><td>15.925649924715024</td>\n",
              "        </tr>\n",
              "        \n",
              "        <tr>\n",
              "          <td>2</td><td>19.158477340164318</td>\n",
              "        </tr>\n",
              "        \n",
              "        <tr>\n",
              "          <td>3</td><td>17.205596845717587</td>\n",
              "        </tr>\n",
              "        \n",
              "        <tr>\n",
              "          <td>4</td><td>16.531591085194883</td>\n",
              "        </tr>\n",
              "        \n",
              "        <tr>\n",
              "          <td>5</td><td>17.296253998903513</td>\n",
              "        </tr>\n",
              "        \n",
              "        <tr>\n",
              "          <td>6</td><td>22.164327796588783</td>\n",
              "        </tr>\n",
              "        \n",
              "        <tr>\n",
              "          <td>7</td><td>19.563866978464322</td>\n",
              "        </tr>\n",
              "        \n",
              "        <tr>\n",
              "          <td>8</td><td>22.21903478883707</td>\n",
              "        </tr>\n",
              "        <tr><td>...</td><td>...</td></tr>\n",
              "        <tr>\n",
              "          <td>9999</td><td>23.67795657206259</td>\n",
              "        </tr>\n",
              "        \n",
              "      </tbody>\n",
              "    </table>\n",
              "        "
            ]
          },
          "metadata": {},
          "execution_count": 40
        }
      ]
    },
    {
      "cell_type": "code",
      "source": [
        "plt.clf()\n",
        "xmean.plot()\n",
        "plt.show()"
      ],
      "metadata": {
        "colab": {
          "base_uri": "https://localhost:8080/",
          "height": 265
        },
        "id": "yE3FZHSejlJA",
        "outputId": "329c53a2-6a0e-4e55-c4fb-72bc2943183c"
      },
      "execution_count": null,
      "outputs": [
        {
          "output_type": "display_data",
          "data": {
            "text/plain": [
              "<Figure size 432x288 with 1 Axes>"
            ],
            "image/png": "[encoded data removed]"
          },
          "metadata": {
            "needs_background": "light"
          }
        }
      ]
    },
    {
      "cell_type": "markdown",
      "source": [
        "CALCULATE THE MEAN AND STANDARD DEVIATION OF THE xmean VARIABLE."
      ],
      "metadata": {
        "id": "Lkp4zmLxsJuG"
      }
    },
    {
      "cell_type": "code",
      "source": [
        "xmean_2 = xmean.mean()\n",
        "xmean_stdDiv = xmean.std()\n",
        "\n",
        "print(xmean_2)\n",
        "print(xmean_stdDiv)\n"
      ],
      "metadata": {
        "colab": {
          "base_uri": "https://localhost:8080/"
        },
        "id": "0gy5gqvHjn3A",
        "outputId": "fd1639e0-0827-457a-89f3-f23c472496d1"
      },
      "execution_count": null,
      "outputs": [
        {
          "output_type": "stream",
          "name": "stdout",
          "text": [
            "19.997143710545323\n",
            "2.293278404418549\n"
          ]
        }
      ]
    },
    {
      "cell_type": "markdown",
      "source": [
        "WHAT DO YOU SEE IN THE ABOVE HISTOGRAM? DOES THE HISTOGRAM OF SAMPLE MEANS OF UNIFORM RANDOM VARIABLE LOOK LIKE A UNIFORM DISTRIBUTED VARIABLE? DO YOU SEE A LOGIC? BRIEFLY EXPLAIN WHAT YOU THINK.\n",
        "\n",
        "Respuesta:\n",
        "\n",
        "SI, AMBOS HISTOGRAMAS SIGUEN UN COMPORTAMIENTO PARECIDO, LA LÓGICA DICE QUE LA VARIABILIDAD ENTRE LOS DATOS DISMINUYE DE ACUERDO A LA MAYOR CANTIDAD DE MUESTRAS QUE SE TOMAN, Y VICEVERSA. DE ESTA MANERA, ENTRE MAYOR SEAN LAS MUESTRAS QUE SE TOMAN EN CUENTA, SE TENDRÁ UNA MENOR DISPERSIÓN ENTRE CADA UNA DE ELLAS."
      ],
      "metadata": {
        "id": "8S3cqetIsLfA"
      }
    },
    {
      "cell_type": "code",
      "source": [
        "plt.clf()\n",
        "xmean.plot()\n",
        "x.plot()\n",
        "plt.show()"
      ],
      "metadata": {
        "colab": {
          "base_uri": "https://localhost:8080/",
          "height": 265
        },
        "id": "JkqGRxr9kU4l",
        "outputId": "7a8d4010-f8e0-49a9-ffb2-f41754ea3fe0"
      },
      "execution_count": null,
      "outputs": [
        {
          "output_type": "display_data",
          "data": {
            "text/plain": [
              "<Figure size 432x288 with 1 Axes>"
            ],
            "image/png": "[encoded data removed]"
          },
          "metadata": {
            "needs_background": "light"
          }
        }
      ]
    },
    {
      "cell_type": "code",
      "source": [
        "# clear the plot space:\n",
        "plt.clf()\n",
        "# Define the probability type of function as uniform (probability space)\n",
        "P = Normal(mean=20, sd=10)\n",
        "# Define Y as a random variable of the type P (normal)\n",
        "Y =RV(P)\n",
        "# Simulate 10,000 values of Y and save the in the x array: \n",
        "y=Y.sim(10000)\n",
        "y.plot()\n",
        "plt.show()"
      ],
      "metadata": {
        "colab": {
          "base_uri": "https://localhost:8080/",
          "height": 265
        },
        "id": "qvgT8ryKotAd",
        "outputId": "dd3614ac-1bcf-4b3a-d418-fbb7e3fb27df"
      },
      "execution_count": null,
      "outputs": [
        {
          "output_type": "display_data",
          "data": {
            "text/plain": [
              "<Figure size 432x288 with 1 Axes>"
            ],
            "image/png": "[encoded data removed]"
          },
          "metadata": {
            "needs_background": "light"
          }
        }
      ]
    },
    {
      "cell_type": "markdown",
      "source": [
        "CALCULATE THE MEAN AND STANDARD DEVIATION OF THIS RANDOM y VARIABLE. HOW SIMILAR OR DIFFERENT ARE THESE VALUES FROM THE MEAN AND STANDARD DEVIATION OF THE THEORETICAL MEAN (20) AND THE THEORETICAL STANDARD DEVIATION (10)?"
      ],
      "metadata": {
        "id": "acS0EH5DuPI-"
      }
    },
    {
      "cell_type": "code",
      "source": [
        "ymean_ = y.mean()\n",
        "ymean_std1 = y.std()\n",
        "\n",
        "print(ymean_)\n",
        "print(ymean_std1)"
      ],
      "metadata": {
        "colab": {
          "base_uri": "https://localhost:8080/"
        },
        "id": "C91EyoeKuKuw",
        "outputId": "e3260572-1a05-4002-b0fa-c1e4e9f8e186"
      },
      "execution_count": null,
      "outputs": [
        {
          "output_type": "stream",
          "name": "stdout",
          "text": [
            "19.920473537162266\n",
            "9.992175574387392\n"
          ]
        }
      ]
    },
    {
      "cell_type": "markdown",
      "source": [
        "B)WHAT DO YOU SEE? INTERPRET THE HISTOGRAM WITH YOUR WORDS.\n",
        "\n",
        "Respuesta:\n",
        "\n",
        "EN EL HISTOGRAMA VEMOS COMO EL PROMEDIO DE LAS MUESTRAS TIENDE AL PROMEDIO TEORICO, LA MAYOR CANTIDAD DE MUESTRAS SE ENCUENTRAN CERCANOS A ESE PROMEDIO, CON LO CUAL SIGUE EL COMPORTAMIENTO DE LA TEORIA DEL LIMITE CENTRAL."
      ],
      "metadata": {
        "id": "RFyQIeDMuSQq"
      }
    },
    {
      "cell_type": "code",
      "source": [
        "# Define the probability space P as a vector of 25 normal random numbers:\n",
        "P = Normal(mean=20, sd=10) ** 25\n",
        "# Define RANDOMVECTOR as a vector of 25 random variables in the Probability space P \n",
        "RANDOMVECTOR = RV(P)\n",
        "# Simulate 10,000 random vectors with this distribution and save the in ymatrix: \n",
        "ymatrix=RANDOMVECTOR.sim(10000)"
      ],
      "metadata": {
        "id": "uPC7b8JPoudW"
      },
      "execution_count": null,
      "outputs": []
    },
    {
      "cell_type": "code",
      "source": [
        "ymatrix"
      ],
      "metadata": {
        "colab": {
          "base_uri": "https://localhost:8080/",
          "height": 272
        },
        "id": "VHJ87vGQox6I",
        "outputId": "f1766c41-12c0-472d-f84a-0ac550002c8d"
      },
      "execution_count": null,
      "outputs": [
        {
          "output_type": "execute_result",
          "data": {
            "text/plain": [
              "Index Result\n",
              "0     (22.34446725100632, 17.22726669436613, 14.702372763686057, 6.434887879427777, 16.7163769603074, ..., 27.5146466314423)\n",
              "1     (22.812343331910835, 19.888439804293327, 17.501987719131243, -1.9781863098115906, 19.258435205633706, ..., 11.567551604486123)\n",
              "2     (28.130592668888944, 21.79271623120596, 3.6957991765360454, 17.993356683763402, 19.15121758353084, ..., 12.8172287935278)\n",
              "3     (-2.3005134805957965, 29.84037645155262, 12.665559082306652, 20.588831395433495, 18.304048647313454, ..., 33.18422209295075)\n",
              "4     (18.000359685962778, 25.205746632701583, 50.640146938254134, 9.49203272386816, 2.028998567456121, ..., 11.507811738481564)\n",
              "5     (20.117008350395405, 8.885068084092158, 19.8671262125792, 23.34575492065344, 26.885347317733554, ..., 23.50383478064012)\n",
              "6     (12.072298627945358, 24.428963757884233, 13.357006400120461, 30.711583682947897, 6.174105206769518, ..., 22.915877592896422)\n",
              "7     (31.016155282499504, 7.049832166880236, 4.502547246388939, 9.170730394854784, 14.952063281656377, ..., 10.555645044904852)\n",
              "8     (18.4324458401502, 17.9036699006659, 21.346272642631376, 23.0943498760368, 16.837328918794512, ..., 11.33323154003662)\n",
              "....  ...........................................................................................................................\n",
              "9999  (20.594908678689162, 11.23708542050162, 39.495490595678035, 12.698303721878265, 22.22838920552787, ..., 18.093488207093618)"
            ],
            "text/html": [
              "\n",
              "    <table>\n",
              "      <thead>\n",
              "        <th width=\"10%\">Index</th>\n",
              "        <th width=\"90%\">Result</th>\n",
              "      </thead>\n",
              "      <tbody>\n",
              "        \n",
              "        <tr>\n",
              "          <td>0</td><td>(22.34446725100632, 17.22726669436613, 14.702372763686057, 6.434887879427777, 16.7163769603074, ...,...</td>\n",
              "        </tr>\n",
              "        \n",
              "        <tr>\n",
              "          <td>1</td><td>(22.812343331910835, 19.888439804293327, 17.501987719131243, -1.9781863098115906, 19.258435205633706...</td>\n",
              "        </tr>\n",
              "        \n",
              "        <tr>\n",
              "          <td>2</td><td>(28.130592668888944, 21.79271623120596, 3.6957991765360454, 17.993356683763402, 19.15121758353084, ....</td>\n",
              "        </tr>\n",
              "        \n",
              "        <tr>\n",
              "          <td>3</td><td>(-2.3005134805957965, 29.84037645155262, 12.665559082306652, 20.588831395433495, 18.304048647313454,...</td>\n",
              "        </tr>\n",
              "        \n",
              "        <tr>\n",
              "          <td>4</td><td>(18.000359685962778, 25.205746632701583, 50.640146938254134, 9.49203272386816, 2.028998567456121, .....</td>\n",
              "        </tr>\n",
              "        \n",
              "        <tr>\n",
              "          <td>5</td><td>(20.117008350395405, 8.885068084092158, 19.8671262125792, 23.34575492065344, 26.885347317733554, ......</td>\n",
              "        </tr>\n",
              "        \n",
              "        <tr>\n",
              "          <td>6</td><td>(12.072298627945358, 24.428963757884233, 13.357006400120461, 30.711583682947897, 6.174105206769518, ...</td>\n",
              "        </tr>\n",
              "        \n",
              "        <tr>\n",
              "          <td>7</td><td>(31.016155282499504, 7.049832166880236, 4.502547246388939, 9.170730394854784, 14.952063281656377, .....</td>\n",
              "        </tr>\n",
              "        \n",
              "        <tr>\n",
              "          <td>8</td><td>(18.4324458401502, 17.9036699006659, 21.346272642631376, 23.0943498760368, 16.837328918794512, ..., ...</td>\n",
              "        </tr>\n",
              "        <tr><td>...</td><td>...</td></tr>\n",
              "        <tr>\n",
              "          <td>9999</td><td>(20.594908678689162, 11.23708542050162, 39.495490595678035, 12.698303721878265, 22.22838920552787, ....</td>\n",
              "        </tr>\n",
              "        \n",
              "      </tbody>\n",
              "    </table>\n",
              "        "
            ]
          },
          "metadata": {},
          "execution_count": 47
        }
      ]
    },
    {
      "cell_type": "code",
      "source": [
        "# The 2nd parameter is the mathematical operation applied to each row of the random vector\n",
        "# Simulate 10,000 means of each random vector of 25 uniform distributed numbers: \n",
        "ymean = RV(P,mean).sim(10000)\n",
        "ymean"
      ],
      "metadata": {
        "colab": {
          "base_uri": "https://localhost:8080/",
          "height": 272
        },
        "id": "DEIsOlYWozkR",
        "outputId": "369a71b2-fb4a-4b98-be45-7ba639eb21e6"
      },
      "execution_count": null,
      "outputs": [
        {
          "output_type": "execute_result",
          "data": {
            "text/plain": [
              "Index Result\n",
              "0     16.970296577552002\n",
              "1     21.076437652277914\n",
              "2     20.10624493160237\n",
              "3     19.167466069138666\n",
              "4     20.486012691259166\n",
              "5     23.53011675475859\n",
              "6     18.445082867139952\n",
              "7     18.871279844689564\n",
              "8     19.56544098152762\n",
              "....  .................\n",
              "9999  21.27427657953777"
            ],
            "text/html": [
              "\n",
              "    <table>\n",
              "      <thead>\n",
              "        <th width=\"10%\">Index</th>\n",
              "        <th width=\"90%\">Result</th>\n",
              "      </thead>\n",
              "      <tbody>\n",
              "        \n",
              "        <tr>\n",
              "          <td>0</td><td>16.970296577552002</td>\n",
              "        </tr>\n",
              "        \n",
              "        <tr>\n",
              "          <td>1</td><td>21.076437652277914</td>\n",
              "        </tr>\n",
              "        \n",
              "        <tr>\n",
              "          <td>2</td><td>20.10624493160237</td>\n",
              "        </tr>\n",
              "        \n",
              "        <tr>\n",
              "          <td>3</td><td>19.167466069138666</td>\n",
              "        </tr>\n",
              "        \n",
              "        <tr>\n",
              "          <td>4</td><td>20.486012691259166</td>\n",
              "        </tr>\n",
              "        \n",
              "        <tr>\n",
              "          <td>5</td><td>23.53011675475859</td>\n",
              "        </tr>\n",
              "        \n",
              "        <tr>\n",
              "          <td>6</td><td>18.445082867139952</td>\n",
              "        </tr>\n",
              "        \n",
              "        <tr>\n",
              "          <td>7</td><td>18.871279844689564</td>\n",
              "        </tr>\n",
              "        \n",
              "        <tr>\n",
              "          <td>8</td><td>19.56544098152762</td>\n",
              "        </tr>\n",
              "        <tr><td>...</td><td>...</td></tr>\n",
              "        <tr>\n",
              "          <td>9999</td><td>21.27427657953777</td>\n",
              "        </tr>\n",
              "        \n",
              "      </tbody>\n",
              "    </table>\n",
              "        "
            ]
          },
          "metadata": {},
          "execution_count": 48
        }
      ]
    },
    {
      "cell_type": "code",
      "source": [
        "plt.clf()\n",
        "ymean.plot()\n",
        "plt.show()"
      ],
      "metadata": {
        "colab": {
          "base_uri": "https://localhost:8080/",
          "height": 265
        },
        "id": "t4kh5Ulso3tW",
        "outputId": "457b00db-5f69-447d-a105-32b4d411e390"
      },
      "execution_count": null,
      "outputs": [
        {
          "output_type": "display_data",
          "data": {
            "text/plain": [
              "<Figure size 432x288 with 1 Axes>"
            ],
            "image/png": "[encoded data removed]"
          },
          "metadata": {
            "needs_background": "light"
          }
        }
      ]
    },
    {
      "cell_type": "markdown",
      "source": [
        "CALCULATE THE MEAN AND STANDARD DEVIATION OF THE ymean VARIABLE. HOW SIMILAR OR DIFFERENT ARE THESE VALUES FROM THE MEAN AND STANDARD DEVIATION OF y?"
      ],
      "metadata": {
        "id": "LAUZ_TwSvKa0"
      }
    },
    {
      "cell_type": "code",
      "source": [
        "ymean2 = ymean.mean()\n",
        "ymean_std = ymean.std()\n",
        "\n",
        "print(ymean2)\n",
        "print(ymean_std)"
      ],
      "metadata": {
        "colab": {
          "base_uri": "https://localhost:8080/"
        },
        "id": "F0zk8EuCqR_N",
        "outputId": "f4601634-ff5e-4ab3-afe1-2cb8f45b39c9"
      },
      "execution_count": null,
      "outputs": [
        {
          "output_type": "stream",
          "name": "stdout",
          "text": [
            "19.997873738864794\n",
            "1.9982372404968738\n"
          ]
        }
      ]
    },
    {
      "cell_type": "markdown",
      "source": [
        "INTERPRET THE ABOVE HISTOGRAM OF THE SAMPLES OF y.\n",
        "\n",
        "Respuesta:\n",
        "\n",
        "DE IGUAL MANERA QUE LOS HISTOGRAMAS ANTERIORES, EL RANGO DEL PROMEDIO DE LAS MUESTRAS DE y TIENE UNA MAYOR DENSIDAD QUE LOS DEMÁS RANGOS, CON LO CUAL TAMBIÉN SIGUE LA TEORÍA DEL LIMITE CENTRAL."
      ],
      "metadata": {
        "id": "2DJSYnrOvI8Q"
      }
    },
    {
      "cell_type": "code",
      "source": [
        "plt.clf()\n",
        "ymean.plot()\n",
        "y.plot()\n",
        "plt.show()"
      ],
      "metadata": {
        "colab": {
          "base_uri": "https://localhost:8080/",
          "height": 265
        },
        "id": "5p9bkasDo650",
        "outputId": "a1232f3b-89b3-4496-db73-10fe6822fdff"
      },
      "execution_count": null,
      "outputs": [
        {
          "output_type": "display_data",
          "data": {
            "text/plain": [
              "<Figure size 432x288 with 1 Axes>"
            ],
            "image/png": "[encoded data removed]"
          },
          "metadata": {
            "needs_background": "light"
          }
        }
      ]
    },
    {
      "cell_type": "code",
      "source": [
        "import pandas_datareader as pdr\n",
        "\n",
        "MSFT = pdr.get_data_yahoo('MSFT', start=\"01/01/2017\", interval=\"m\")"
      ],
      "metadata": {
        "id": "g4qkIwGt4r9S"
      },
      "execution_count": null,
      "outputs": []
    },
    {
      "cell_type": "code",
      "source": [
        "MSFT"
      ],
      "metadata": {
        "colab": {
          "base_uri": "https://localhost:8080/",
          "height": 455
        },
        "id": "nPcgQq3y9QxG",
        "outputId": "61563e4a-57c7-467e-d228-88c9b55a5e26"
      },
      "execution_count": null,
      "outputs": [
        {
          "output_type": "execute_result",
          "data": {
            "text/plain": [
              "                  High         Low        Open       Close       Volume  \\\n",
              "Date                                                                      \n",
              "2017-01-01   65.910004   61.950001   62.790001   64.650002  493453500.0   \n",
              "2017-02-01   65.239998   62.750000   64.360001   63.980000  440744000.0   \n",
              "2017-03-01   66.190002   63.619999   64.129997   65.860001  489169700.0   \n",
              "2017-04-01   69.139999   64.849998   65.809998   68.459999  433191200.0   \n",
              "2017-05-01   70.739998   67.139999   68.680000   69.839996  517218500.0   \n",
              "...                ...         ...         ...         ...          ...   \n",
              "2022-05-01  290.880005  246.440002  277.709991  271.869995  742902000.0   \n",
              "2022-06-01  277.690002  241.509995  275.200012  256.829987  621372300.0   \n",
              "2022-07-01  282.000000  245.940002  256.390015  280.739990  534868400.0   \n",
              "2022-08-01  294.179993  272.380005  277.820007  293.470001  230251400.0   \n",
              "2022-08-16  292.865112  290.420013  291.989990  292.750000    6636169.0   \n",
              "\n",
              "             Adj Close  \n",
              "Date                    \n",
              "2017-01-01   59.846741  \n",
              "2017-02-01   59.226521  \n",
              "2017-03-01   61.336456  \n",
              "2017-04-01   63.757854  \n",
              "2017-05-01   65.043068  \n",
              "...                ...  \n",
              "2022-05-01  271.238251  \n",
              "2022-06-01  256.829987  \n",
              "2022-07-01  280.739990  \n",
              "2022-08-01  293.470001  \n",
              "2022-08-16  292.750000  \n",
              "\n",
              "[69 rows x 6 columns]"
            ],
            "text/html": [
              "\n",
              "  <div id=\"df-67f798c8-e7ca-4664-95ff-115b172b081e\">\n",
              "    <div class=\"colab-df-container\">\n",
              "      <div>\n",
              "<style scoped>\n",
              "    .dataframe tbody tr th:only-of-type {\n",
              "        vertical-align: middle;\n",
              "    }\n",
              "\n",
              "    .dataframe tbody tr th {\n",
              "        vertical-align: top;\n",
              "    }\n",
              "\n",
              "    .dataframe thead th {\n",
              "        text-align: right;\n",
              "    }\n",
              "</style>\n",
              "<table border=\"1\" class=\"dataframe\">\n",
              "  <thead>\n",
              "    <tr style=\"text-align: right;\">\n",
              "      <th></th>\n",
              "      <th>High</th>\n",
              "      <th>Low</th>\n",
              "      <th>Open</th>\n",
              "      <th>Close</th>\n",
              "      <th>Volume</th>\n",
              "      <th>Adj Close</th>\n",
              "    </tr>\n",
              "    <tr>\n",
              "      <th>Date</th>\n",
              "      <th></th>\n",
              "      <th></th>\n",
              "      <th></th>\n",
              "      <th></th>\n",
              "      <th></th>\n",
              "      <th></th>\n",
              "    </tr>\n",
              "  </thead>\n",
              "  <tbody>\n",
              "    <tr>\n",
              "      <th>2017-01-01</th>\n",
              "      <td>65.910004</td>\n",
              "      <td>61.950001</td>\n",
              "      <td>62.790001</td>\n",
              "      <td>64.650002</td>\n",
              "      <td>493453500.0</td>\n",
              "      <td>59.846741</td>\n",
              "    </tr>\n",
              "    <tr>\n",
              "      <th>2017-02-01</th>\n",
              "      <td>65.239998</td>\n",
              "      <td>62.750000</td>\n",
              "      <td>64.360001</td>\n",
              "      <td>63.980000</td>\n",
              "      <td>440744000.0</td>\n",
              "      <td>59.226521</td>\n",
              "    </tr>\n",
              "    <tr>\n",
              "      <th>2017-03-01</th>\n",
              "      <td>66.190002</td>\n",
              "      <td>63.619999</td>\n",
              "      <td>64.129997</td>\n",
              "      <td>65.860001</td>\n",
              "      <td>489169700.0</td>\n",
              "      <td>61.336456</td>\n",
              "    </tr>\n",
              "    <tr>\n",
              "      <th>2017-04-01</th>\n",
              "      <td>69.139999</td>\n",
              "      <td>64.849998</td>\n",
              "      <td>65.809998</td>\n",
              "      <td>68.459999</td>\n",
              "      <td>433191200.0</td>\n",
              "      <td>63.757854</td>\n",
              "    </tr>\n",
              "    <tr>\n",
              "      <th>2017-05-01</th>\n",
              "      <td>70.739998</td>\n",
              "      <td>67.139999</td>\n",
              "      <td>68.680000</td>\n",
              "      <td>69.839996</td>\n",
              "      <td>517218500.0</td>\n",
              "      <td>65.043068</td>\n",
              "    </tr>\n",
              "    <tr>\n",
              "      <th>...</th>\n",
              "      <td>...</td>\n",
              "      <td>...</td>\n",
              "      <td>...</td>\n",
              "      <td>...</td>\n",
              "      <td>...</td>\n",
              "      <td>...</td>\n",
              "    </tr>\n",
              "    <tr>\n",
              "      <th>2022-05-01</th>\n",
              "      <td>290.880005</td>\n",
              "      <td>246.440002</td>\n",
              "      <td>277.709991</td>\n",
              "      <td>271.869995</td>\n",
              "      <td>742902000.0</td>\n",
              "      <td>271.238251</td>\n",
              "    </tr>\n",
              "    <tr>\n",
              "      <th>2022-06-01</th>\n",
              "      <td>277.690002</td>\n",
              "      <td>241.509995</td>\n",
              "      <td>275.200012</td>\n",
              "      <td>256.829987</td>\n",
              "      <td>621372300.0</td>\n",
              "      <td>256.829987</td>\n",
              "    </tr>\n",
              "    <tr>\n",
              "      <th>2022-07-01</th>\n",
              "      <td>282.000000</td>\n",
              "      <td>245.940002</td>\n",
              "      <td>256.390015</td>\n",
              "      <td>280.739990</td>\n",
              "      <td>534868400.0</td>\n",
              "      <td>280.739990</td>\n",
              "    </tr>\n",
              "    <tr>\n",
              "      <th>2022-08-01</th>\n",
              "      <td>294.179993</td>\n",
              "      <td>272.380005</td>\n",
              "      <td>277.820007</td>\n",
              "      <td>293.470001</td>\n",
              "      <td>230251400.0</td>\n",
              "      <td>293.470001</td>\n",
              "    </tr>\n",
              "    <tr>\n",
              "      <th>2022-08-16</th>\n",
              "      <td>292.865112</td>\n",
              "      <td>290.420013</td>\n",
              "      <td>291.989990</td>\n",
              "      <td>292.750000</td>\n",
              "      <td>6636169.0</td>\n",
              "      <td>292.750000</td>\n",
              "    </tr>\n",
              "  </tbody>\n",
              "</table>\n",
              "<p>69 rows × 6 columns</p>\n",
              "</div>\n",
              "      <button class=\"colab-df-convert\" onclick=\"convertToInteractive('df-67f798c8-e7ca-4664-95ff-115b172b081e')\"\n",
              "              title=\"Convert this dataframe to an interactive table.\"\n",
              "              style=\"display:none;\">\n",
              "        \n",
              "  <svg xmlns=\"http://www.w3.org/2000/svg\" height=\"24px\"viewBox=\"0 0 24 24\"\n",
              "       width=\"24px\">\n",
              "    <path d=\"M0 0h24v24H0V0z\" fill=\"none\"/>\n",
              "    <path d=\"M18.56 5.44l.94 2.06.94-2.06 2.06-.94-2.06-.94-.94-2.06-.94 2.06-2.06.94zm-11 1L8.5 8.5l.94-2.06 2.06-.94-2.06-.94L8.5 2.5l-.94 2.06-2.06.94zm10 10l.94 2.06.94-2.06 2.06-.94-2.06-.94-.94-2.06-.94 2.06-2.06.94z\"/><path d=\"M17.41 7.96l-1.37-1.37c-.4-.4-.92-.59-1.43-.59-.52 0-1.04.2-1.43.59L10.3 9.45l-7.72 7.72c-.78.78-.78 2.05 0 2.83L4 21.41c.39.39.9.59 1.41.59.51 0 1.02-.2 1.41-.59l7.78-7.78 2.81-2.81c.8-.78.8-2.07 0-2.86zM5.41 20L4 18.59l7.72-7.72 1.47 1.35L5.41 20z\"/>\n",
              "  </svg>\n",
              "      </button>\n",
              "      \n",
              "  <style>\n",
              "    .colab-df-container {\n",
              "      display:flex;\n",
              "      flex-wrap:wrap;\n",
              "      gap: 12px;\n",
              "    }\n",
              "\n",
              "    .colab-df-convert {\n",
              "      background-color: #E8F0FE;\n",
              "      border: none;\n",
              "      border-radius: 50%;\n",
              "      cursor: pointer;\n",
              "      display: none;\n",
              "      fill: #1967D2;\n",
              "      height: 32px;\n",
              "      padding: 0 0 0 0;\n",
              "      width: 32px;\n",
              "    }\n",
              "\n",
              "    .colab-df-convert:hover {\n",
              "      background-color: #E2EBFA;\n",
              "      box-shadow: 0px 1px 2px rgba(60, 64, 67, 0.3), 0px 1px 3px 1px rgba(60, 64, 67, 0.15);\n",
              "      fill: #174EA6;\n",
              "    }\n",
              "\n",
              "    [theme=dark] .colab-df-convert {\n",
              "      background-color: #3B4455;\n",
              "      fill: #D2E3FC;\n",
              "    }\n",
              "\n",
              "    [theme=dark] .colab-df-convert:hover {\n",
              "      background-color: #434B5C;\n",
              "      box-shadow: 0px 1px 3px 1px rgba(0, 0, 0, 0.15);\n",
              "      filter: drop-shadow(0px 1px 2px rgba(0, 0, 0, 0.3));\n",
              "      fill: #FFFFFF;\n",
              "    }\n",
              "  </style>\n",
              "\n",
              "      <script>\n",
              "        const buttonEl =\n",
              "          document.querySelector('#df-67f798c8-e7ca-4664-95ff-115b172b081e button.colab-df-convert');\n",
              "        buttonEl.style.display =\n",
              "          google.colab.kernel.accessAllowed ? 'block' : 'none';\n",
              "\n",
              "        async function convertToInteractive(key) {\n",
              "          const element = document.querySelector('#df-67f798c8-e7ca-4664-95ff-115b172b081e');\n",
              "          const dataTable =\n",
              "            await google.colab.kernel.invokeFunction('convertToInteractive',\n",
              "                                                     [key], {});\n",
              "          if (!dataTable) return;\n",
              "\n",
              "          const docLinkHtml = 'Like what you see? Visit the ' +\n",
              "            '<a target=\"_blank\" href=https://colab.research.google.com/notebooks/data_table.ipynb>data table notebook</a>'\n",
              "            + ' to learn more about interactive tables.';\n",
              "          element.innerHTML = '';\n",
              "          dataTable['output_type'] = 'display_data';\n",
              "          await google.colab.output.renderOutput(dataTable, element);\n",
              "          const docLink = document.createElement('div');\n",
              "          docLink.innerHTML = docLinkHtml;\n",
              "          element.appendChild(docLink);\n",
              "        }\n",
              "      </script>\n",
              "    </div>\n",
              "  </div>\n",
              "  "
            ]
          },
          "metadata": {},
          "execution_count": 53
        }
      ]
    },
    {
      "cell_type": "code",
      "source": [
        "MSFT['R'] = (MSFT['Adj Close']/MSFT['Adj Close'].shift(1)) - 1\n",
        "print(MSFT['R'])"
      ],
      "metadata": {
        "colab": {
          "base_uri": "https://localhost:8080/"
        },
        "id": "1E-HOK41dG_8",
        "outputId": "928a0b5e-23ed-41e0-d0b2-d9beaabfe60c"
      },
      "execution_count": null,
      "outputs": [
        {
          "output_type": "stream",
          "name": "stdout",
          "text": [
            "Date\n",
            "2017-01-01         NaN\n",
            "2017-02-01   -0.010363\n",
            "2017-03-01    0.035625\n",
            "2017-04-01    0.039477\n",
            "2017-05-01    0.020158\n",
            "                ...   \n",
            "2022-05-01   -0.020359\n",
            "2022-06-01   -0.053120\n",
            "2022-07-01    0.093097\n",
            "2022-08-01    0.045344\n",
            "2022-08-16   -0.002453\n",
            "Name: R, Length: 69, dtype: float64\n"
          ]
        }
      ]
    },
    {
      "cell_type": "code",
      "source": [
        "import numpy as np\n",
        "\n",
        "# h0 = MSFT['R'] <= 0\n",
        "# ha = MSFT['R'] > 0\n",
        "\n",
        "std_MSFT = MSFT['R'].std()\n",
        "std_MSFT\n",
        "\n",
        "stdgp_MSFT = std_MSFT/np.sqrt(MSFT['R'].count())\n",
        "stdgp_MSFT\n"
      ],
      "metadata": {
        "id": "ZGKS_8vmdHDa",
        "colab": {
          "base_uri": "https://localhost:8080/"
        },
        "outputId": "6b16a66b-8cb7-4c79-de9b-97e19e16d5c2"
      },
      "execution_count": null,
      "outputs": [
        {
          "output_type": "execute_result",
          "data": {
            "text/plain": [
              "0.006725688661830787"
            ]
          },
          "metadata": {},
          "execution_count": 55
        }
      ]
    },
    {
      "cell_type": "code",
      "source": [
        "mean_MSFT = MSFT['R'].mean()\n",
        "mean_MSFT"
      ],
      "metadata": {
        "colab": {
          "base_uri": "https://localhost:8080/"
        },
        "id": "c7Cv3unvP28T",
        "outputId": "955e947c-1857-4df3-8210-2b3cffc2d327"
      },
      "execution_count": null,
      "outputs": [
        {
          "output_type": "execute_result",
          "data": {
            "text/plain": [
              "0.02510098166020567"
            ]
          },
          "metadata": {},
          "execution_count": 56
        }
      ]
    },
    {
      "cell_type": "code",
      "source": [
        "t_stat = (mean_MSFT-0)/stdgp_MSFT\n",
        "t_stat"
      ],
      "metadata": {
        "colab": {
          "base_uri": "https://localhost:8080/"
        },
        "id": "FGOuhMojPGAO",
        "outputId": "61aad4a4-6082-4f9b-deaf-5ea2be7f5c46"
      },
      "execution_count": null,
      "outputs": [
        {
          "output_type": "execute_result",
          "data": {
            "text/plain": [
              "3.732105799463661"
            ]
          },
          "metadata": {},
          "execution_count": 57
        }
      ]
    },
    {
      "cell_type": "code",
      "source": [
        "minCI = mean_MSFT-2*(stdgp_MSFT)\n",
        "minCI"
      ],
      "metadata": {
        "colab": {
          "base_uri": "https://localhost:8080/"
        },
        "id": "ql2C7WgKS7Bm",
        "outputId": "dc5e8589-2beb-4f59-ed66-0276372c33bc"
      },
      "execution_count": null,
      "outputs": [
        {
          "output_type": "execute_result",
          "data": {
            "text/plain": [
              "0.011649604336544096"
            ]
          },
          "metadata": {},
          "execution_count": 58
        }
      ]
    },
    {
      "cell_type": "code",
      "source": [
        "maxCI = mean_MSFT+2*(stdgp_MSFT)\n",
        "maxCI"
      ],
      "metadata": {
        "colab": {
          "base_uri": "https://localhost:8080/"
        },
        "id": "-y_k6XFQTNNR",
        "outputId": "f7c41b80-d9e1-49fa-bdeb-3f1481fd6634"
      },
      "execution_count": null,
      "outputs": [
        {
          "output_type": "execute_result",
          "data": {
            "text/plain": [
              "0.038552358983867246"
            ]
          },
          "metadata": {},
          "execution_count": 59
        }
      ]
    },
    {
      "cell_type": "markdown",
      "source": [
        "WRITE YOUR CONCLUSION OF THE t-TEST\n",
        "\n",
        "respuesta:\n",
        "\n",
        "EL RESULTADO DE LA DIFERENCIA ENTRE AMBAS DESVIACIONES FUE DE 3.7 APROXIMADAMENTE, LO CUAL QUIERE DECIR QUE LA HIPÓTESIS ALTERNATIVA ES CORRECTA."
      ],
      "metadata": {
        "id": "QTN5L3lBTcnm"
      }
    }
  ]
}